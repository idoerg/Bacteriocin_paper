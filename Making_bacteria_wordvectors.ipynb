{
 "cells": [
  {
   "cell_type": "code",
   "execution_count": 2,
   "metadata": {
    "collapsed": true
   },
   "outputs": [],
   "source": [
    "%matplotlib inline\n",
    "import matplotlib.pyplot as plt\n",
    "plt.rcParams['figure.figsize'] = (10.0, 7.0)\n",
    "\n",
    "import collections\n",
    "import nltk\n",
    "from collections import defaultdict\n",
    "from nltk import bigrams\n",
    "from nltk import trigrams\n",
    "import pandas as pd\n",
    "from Bio import SeqIO\n",
    "from sklearn.preprocessing import normalize\n",
    "import numpy as np\n",
    "from sklearn.decomposition import TruncatedSVD\n",
    "from sklearn.manifold import TSNE\n",
    "import pandas as pad\n",
    "import gensim, logging\n",
    "logging.basicConfig(format='%(asctime)s : %(levelname)s : %(message)s', level=logging.INFO, stream = sys.stdout)"
   ]
  },
  {
   "cell_type": "code",
   "execution_count": 6,
   "metadata": {
    "collapsed": true
   },
   "outputs": [],
   "source": [
    "\"\"\"\n",
    "Class to iterate over list of overlapping trigrams for gensim function to use \n",
    "\"\"\"\n",
    "class MySentences(object):\n",
    "    def __init__(self):\n",
    "        pass\n",
    "    \n",
    "    def __iter__(self):\n",
    "        for index, record in enumerate(SeqIO.parse('trembl_bacteria_seqs.fa', 'fasta')):\n",
    "            for loop_num in xrange(0, 3):\n",
    "                word_list = []\n",
    "                #print record.seq\n",
    "                tri_tokens = trigrams(record.seq)\n",
    "                for index1, item in enumerate(tri_tokens):\n",
    "                    if index1 % 3 == loop_num:\n",
    "                        tri_str = item[0] + item[1] + item[2]\n",
    "                        #print tri_str,\n",
    "                        word_list.append(tri_str)\n",
    "                #print\n",
    "                yield word_list"
   ]
  },
  {
   "cell_type": "code",
   "execution_count": null,
   "metadata": {
    "collapsed": false,
    "scrolled": true
   },
   "outputs": [],
   "source": [
    "\"\"\"\n",
    "Gensim function to generate word vectors\n",
    "\"\"\"\n",
    "min_count = 0\n",
    "size = 200\n",
    "window = 5\n",
    "sg = 1\n",
    "\n",
    "sentences = MySentences() # a memory-friendly iterator\n",
    "model = gensim.models.Word2Vec(sentences, min_count=min_count, size=size, window=window, sg = sg, workers = 10)"
   ]
  },
  {
   "cell_type": "code",
   "execution_count": 8,
   "metadata": {
    "collapsed": true
   },
   "outputs": [],
   "source": [
    "\"\"\"\n",
    "Saving the model to a binary file\n",
    "\"\"\"\n",
    "model.save('word2vec_model_trembl_size_200_gensim')"
   ]
  },
  {
   "cell_type": "code",
   "execution_count": 10,
   "metadata": {
    "collapsed": false
   },
   "outputs": [],
   "source": [
    "\"\"\"\n",
    "Loading the model to check if everything is fine\n",
    "\"\"\"\n",
    "new_model = gensim.models.Word2Vec.load('word2vec_model_trembl_size_200_gensim')"
   ]
  },
  {
   "cell_type": "code",
   "execution_count": 11,
   "metadata": {
    "collapsed": false
   },
   "outputs": [
    {
     "data": {
      "text/plain": [
       "10334"
      ]
     },
     "execution_count": 11,
     "metadata": {},
     "output_type": "execute_result"
    }
   ],
   "source": [
    "len(list(new_model.wv.vocab))"
   ]
  },
  {
   "cell_type": "code",
   "execution_count": 12,
   "metadata": {
    "collapsed": false,
    "scrolled": true
   },
   "outputs": [
    {
     "data": {
      "text/plain": [
       "array([ -1.41333163e-01,   4.34706658e-02,   3.87394801e-02,\n",
       "        -2.24631682e-01,   1.80923760e-01,   3.19859684e-02,\n",
       "         2.44557112e-01,   1.10440366e-01,  -3.27791907e-02,\n",
       "        -1.36738330e-01,   1.28148854e-01,   1.64960966e-01,\n",
       "        -6.08720742e-02,  -8.58856216e-02,   3.51485871e-02,\n",
       "        -1.12291887e-01,  -6.13041446e-02,  -2.69700885e-01,\n",
       "        -1.20296001e-01,   4.22998331e-02,  -2.18988225e-01,\n",
       "         7.79120103e-02,   5.00044301e-02,  -6.73710629e-02,\n",
       "         3.17962468e-01,   1.29416704e-01,  -1.46852443e-02,\n",
       "        -4.16233987e-02,  -4.88213338e-02,   1.75257668e-01,\n",
       "         2.17614006e-02,   1.89378019e-02,   1.25815019e-01,\n",
       "         1.24035090e-01,   2.21106514e-01,  -4.31634001e-02,\n",
       "         1.47515744e-01,   8.38434845e-02,   2.74471045e-01,\n",
       "        -3.73183116e-02,  -7.53250718e-02,  -4.24031503e-02,\n",
       "         2.58889571e-02,  -1.27263010e-01,   4.64612730e-02,\n",
       "         5.66109531e-02,  -2.42768526e-02,  -3.08363497e-01,\n",
       "         1.01783141e-01,  -3.23697962e-02,  -2.30846107e-02,\n",
       "         3.45066801e-04,   9.16897319e-03,   1.24930829e-01,\n",
       "        -7.84133375e-02,  -1.34640196e-02,  -2.79380262e-01,\n",
       "        -4.18602042e-02,   2.53278434e-01,  -1.37142345e-01,\n",
       "         1.45527244e-01,  -9.46978629e-02,   7.69067779e-02,\n",
       "         6.01293817e-02,  -1.65164143e-01,  -1.45725921e-01,\n",
       "        -2.78459536e-03,   4.82259206e-02,   8.08314681e-02,\n",
       "         2.57393718e-02,  -8.78708716e-03,   1.70633644e-01,\n",
       "         8.71399939e-02,  -1.49214074e-01,   1.35202063e-02,\n",
       "         1.79113775e-01,   8.53080153e-02,   1.53495036e-02,\n",
       "        -5.72095215e-02,   3.53815705e-02,   9.91877764e-02,\n",
       "        -4.64650579e-02,   1.43326685e-01,  -1.39033705e-01,\n",
       "        -7.50094792e-03,   3.71525474e-02,  -1.54819135e-02,\n",
       "         1.45387575e-02,  -5.73334135e-02,  -3.03296801e-02,\n",
       "         6.20878525e-02,  -2.82093316e-01,   1.15775257e-01,\n",
       "         9.04996172e-02,   2.00778797e-01,   7.94867128e-02,\n",
       "         9.84238088e-03,   2.49415450e-03,   2.73930371e-01,\n",
       "         1.46356300e-01,  -1.30386531e-01,  -4.26936716e-01,\n",
       "         2.08511397e-01,  -5.75158279e-03,  -1.06971733e-01,\n",
       "        -5.13926819e-02,  -3.54647031e-03,   5.17154438e-03,\n",
       "         2.70770136e-02,  -5.61595224e-02,  -2.31781602e-02,\n",
       "         1.80455148e-02,  -1.59420833e-01,  -6.91579878e-02,\n",
       "         1.43908307e-01,   4.73103523e-02,   1.68770716e-01,\n",
       "        -1.04735613e-01,   2.11413540e-02,   6.04779180e-03,\n",
       "         2.77074054e-02,   1.19414516e-01,  -1.06658414e-01,\n",
       "        -1.05805911e-01,   8.90729725e-02,  -1.04220830e-01,\n",
       "         1.39197335e-01,   1.00205019e-01,  -7.92662054e-03,\n",
       "        -2.64205933e-01,   1.68374836e-01,   2.15095773e-01,\n",
       "         1.83660164e-02,  -3.75102051e-02,   9.32392329e-02,\n",
       "         1.38569489e-01,  -1.35683715e-01,  -1.59694359e-01,\n",
       "        -3.77634121e-03,  -4.98799980e-02,  -9.06719491e-02,\n",
       "         1.18067488e-01,   2.41747461e-02,  -5.60425315e-03,\n",
       "         3.39228697e-02,   2.63436794e-01,  -6.03205226e-02,\n",
       "         1.25610247e-01,   2.00383157e-01,   2.70152301e-01,\n",
       "        -4.71265353e-02,   1.53739214e-01,  -7.89524540e-02,\n",
       "         6.20931247e-03,   7.24233165e-02,  -1.41263306e-01,\n",
       "         6.26567006e-02,   1.21342689e-01,  -2.84426901e-02,\n",
       "        -6.19030781e-02,   9.77725983e-02,  -3.09490561e-02,\n",
       "        -9.59777981e-02,  -8.42418447e-02,   8.98424629e-03,\n",
       "         8.27508699e-03,  -7.88943544e-02,  -1.80657089e-01,\n",
       "        -1.08293049e-01,  -3.37807611e-02,  -1.16238222e-01,\n",
       "        -1.56517938e-01,  -5.37375845e-02,  -9.52168629e-02,\n",
       "        -2.77589429e-02,  -1.24379508e-01,  -3.83663066e-02,\n",
       "        -1.23386212e-01,  -1.51279336e-02,   9.72057804e-02,\n",
       "         2.24231094e-01,  -1.29539430e-01,   1.98686182e-01,\n",
       "        -1.66778849e-03,  -9.94456708e-02,   4.63388525e-02,\n",
       "         2.55006403e-02,  -8.98633376e-02,   1.81510240e-01,\n",
       "        -8.03837329e-02,   1.89246073e-01,   3.21672149e-02,\n",
       "        -7.30974823e-02,   6.28696755e-02,   8.77847895e-02,\n",
       "        -8.63672793e-02,   1.06947109e-01,  -1.01527497e-01,\n",
       "        -8.50629732e-02,   9.20651034e-02], dtype=float32)"
      ]
     },
     "execution_count": 12,
     "metadata": {},
     "output_type": "execute_result"
    }
   ],
   "source": [
    "new_model['TST']\n",
    "#model.similarity('AAA', 'AAG')"
   ]
  }
 ],
 "metadata": {
  "kernelspec": {
   "display_name": "Python 2",
   "language": "python",
   "name": "python2"
  },
  "language_info": {
   "codemirror_mode": {
    "name": "ipython",
    "version": 2
   },
   "file_extension": ".py",
   "mimetype": "text/x-python",
   "name": "python",
   "nbconvert_exporter": "python",
   "pygments_lexer": "ipython2",
   "version": "2.7.13"
  }
 },
 "nbformat": 4,
 "nbformat_minor": 2
}
