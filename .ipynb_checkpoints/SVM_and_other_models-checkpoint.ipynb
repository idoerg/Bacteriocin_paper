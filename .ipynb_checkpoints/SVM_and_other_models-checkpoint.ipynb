{
 "cells": [
  {
   "cell_type": "markdown",
   "metadata": {},
   "source": [
    "## Importing libraries"
   ]
  },
  {
   "cell_type": "code",
   "execution_count": null,
   "metadata": {
    "collapsed": true
   },
   "outputs": [],
   "source": [
    "%matplotlib inline\n",
    "import matplotlib.pyplot as plt\n",
    "plt.rcParams['figure.figsize'] = (10.0, 7.0)\n",
    "\n",
    "import math\n",
    "import numpy as np\n",
    "\n",
    "seed = 42\n",
    "np.random.seed(seed)\n",
    "\n",
    "import os\n",
    "import pandas as pd\n",
    "from collections import defaultdict\n",
    "from Bio import SeqIO\n",
    "from nltk import bigrams\n",
    "from nltk import trigrams\n",
    "import gensim, logging\n",
    "logging.basicConfig(format='%(asctime)s : %(levelname)s : %(message)s', level=logging.INFO)\n",
    "\n",
    "\n",
    "from keras.layers import Dropout\n",
    "from keras.layers import Input, Dense, Lambda, LSTM, RepeatVector, Conv1D, MaxPooling1D, UpSampling1D\n",
    "from keras.models import Model\n",
    "from keras import backend as K\n",
    "from keras import objectives\n",
    "from keras.datasets import mnist\n",
    "from keras import regularizers\n",
    "from keras.layers import GaussianNoise\n",
    "from keras.layers import Activation\n",
    "from keras.callbacks import LearningRateScheduler, EarlyStopping\n",
    "\n",
    "from keras.layers.normalization import BatchNormalization\n",
    "from keras.models import Sequential\n",
    "from keras.layers import Dense\n",
    "from keras.wrappers.scikit_learn import KerasClassifier\n",
    "from keras.utils import np_utils\n",
    "from keras import regularizers\n",
    "from keras.regularizers import l2, activity_l2, l1, activity_l1\n",
    "from keras.optimizers import Adam, SGD\n",
    "\n",
    "from keras.wrappers.scikit_learn import KerasClassifier\n",
    "from sklearn.decomposition import TruncatedSVD\n",
    "from sklearn.manifold import TSNE\n",
    "from sklearn.preprocessing import normalize\n",
    "from sklearn.utils import shuffle\n",
    "from sklearn.model_selection import train_test_split\n",
    "from sklearn import metrics\n",
    "from sklearn.model_selection import KFold\n",
    "from sklearn.preprocessing import LabelEncoder\n",
    "from sklearn.pipeline import Pipeline\n",
    "from sklearn.metrics import precision_score\n",
    "from sklearn.metrics import recall_score\n",
    "from sklearn.metrics import f1_score\n",
    "from sklearn import preprocessing\n",
    "from sklearn.metrics import roc_curve, auc\n",
    "from sklearn.linear_model import LogisticRegression\n",
    "from sklearn.ensemble import RandomForestClassifier\n",
    "from sklearn.svm import SVC\n",
    "from sklearn.tree import DecisionTreeClassifier\n",
    "from sklearn.model_selection import StratifiedKFold\n",
    "from sklearn.model_selection import GridSearchCV\n",
    "from sklearn.model_selection import cross_val_score\n",
    "\n",
    "\n",
    "import dask.dataframe as dd\n",
    "from sklearn.metrics import precision_recall_curve\n",
    "from sklearn.metrics import average_precision_score\n",
    "from scipy import interp\n",
    "from itertools import cycle\n",
    "from scipy import stats"
   ]
  },
  {
   "cell_type": "markdown",
   "metadata": {
    "heading_collapsed": true
   },
   "source": [
    "## Word-vectors"
   ]
  },
  {
   "cell_type": "code",
   "execution_count": null,
   "metadata": {
    "collapsed": true,
    "hidden": true
   },
   "outputs": [],
   "source": [
    "\"\"\"\n",
    "Loading the word vectors from the gensim binary file\n",
    "\"\"\"\n",
    "new_model = gensim.models.Word2Vec.load('word2vec_model_trembl_size_200_gensim')"
   ]
  },
  {
   "cell_type": "code",
   "execution_count": null,
   "metadata": {
    "collapsed": true,
    "hidden": true
   },
   "outputs": [],
   "source": [
    "\"\"\"\n",
    "Generating word vector for protein sequences in our primary bacteriocin set.\n",
    "This is the sum of overlapping trigrams representation\n",
    "\"\"\"\n",
    "\n",
    "import time\n",
    "t0 = time.time()\n",
    "\n",
    "temp_word = np.zeros(shape=(692,200))\n",
    "for index, record in enumerate(SeqIO.parse('primary_bacteriocin_training_set', 'fasta')):\n",
    "    sum_of_sequence = 0\n",
    "    tri_tokens = trigrams(record.seq)\n",
    "    for item in ((tri_tokens)):\n",
    "        tri_str = item[0] + item[1] + item[2]\n",
    "        if tri_str not in list(new_model.wv.vocab):\n",
    "            continue\n",
    "        sum_of_sequence = sum_of_sequence + new_model[tri_str]\n",
    "    temp_word[index] = sum_of_sequence\n",
    "\n",
    "\n",
    "t1 = time.time()\n",
    "\n",
    "y_temp_word = np.vstack((np.ones((346, 1)), \n",
    "                    np.zeros((346,1))))\n",
    "\n",
    "temp_scaler = preprocessing.StandardScaler().fit(temp_word)\n",
    "temp_word_scaled = temp_scaler.transform(temp_word)\n",
    "\n",
    "c, r = y_temp_word.shape\n",
    "y_temp_word = y_temp_word.reshape(c,)"
   ]
  },
  {
   "cell_type": "markdown",
   "metadata": {
    "heading_collapsed": true
   },
   "source": [
    "## T-SNE"
   ]
  },
  {
   "cell_type": "code",
   "execution_count": 4,
   "metadata": {
    "collapsed": false,
    "hidden": true
   },
   "outputs": [
    {
     "name": "stdout",
     "output_type": "stream",
     "text": [
      "[t-SNE] Computing pairwise distances...\n",
      "[t-SNE] Computing 121 nearest neighbors...\n",
      "[t-SNE] Computed conditional probabilities for sample 692 / 692\n",
      "[t-SNE] Mean sigma: 3.760227\n",
      "[t-SNE] Iteration 25: error = 1.2084047, gradient norm = 0.0191380\n",
      "[t-SNE] Iteration 50: error = 1.2205156, gradient norm = 0.0185297\n",
      "[t-SNE] Iteration 75: error = 0.9318930, gradient norm = 0.0126172\n",
      "[t-SNE] Iteration 100: error = 0.9581714, gradient norm = 0.0129357\n",
      "[t-SNE] KL divergence after 100 iterations with early exaggeration: 0.958171\n",
      "[t-SNE] Iteration 125: error = 0.8598639, gradient norm = 0.0096229\n",
      "[t-SNE] Iteration 150: error = 0.9043701, gradient norm = 0.0097090\n",
      "[t-SNE] Iteration 175: error = 0.9010624, gradient norm = 0.0096033\n",
      "[t-SNE] Iteration 175: did not make any progress during the last 30 episodes. Finished.\n",
      "[t-SNE] Error after 175 iterations: 0.958171\n"
     ]
    }
   ],
   "source": [
    "\"\"\"\n",
    "View the sum of sequence representation with t-sne\n",
    "\"\"\"\n",
    "\n",
    "\n",
    "#encoded_imgs = encoder_4000_bn.predict(x_word_scaled)\n",
    "#encoded_imgs = encoder_1000_bn.predict(encoded_imgs)\n",
    "#encoded_imgs = encoder_50_bn.predict(encoded_imgs)\n",
    "X_embedded = TSNE(n_components=2, perplexity=40, verbose=2).fit_transform(temp_word_scaled)\n",
    "\n",
    "#X_embedded = TSNE(n_components=2, perplexity=40, verbose=2).fit_transform(encoded_imgs)\n",
    "vis_x = X_embedded[:, 0]\n",
    "vis_y = X_embedded[:, 1]"
   ]
  },
  {
   "cell_type": "code",
   "execution_count": 5,
   "metadata": {
    "collapsed": false,
    "hidden": true
   },
   "outputs": [
    {
     "data": {
      "image/png": "[encoded data removed]",
      "text/plain": [
       "<matplotlib.figure.Figure at 0x7f8e501c6c10>"
      ]
     },
     "metadata": {},
     "output_type": "display_data"
    }
   ],
   "source": [
    "fig = plt.figure()\n",
    "ax = fig.add_subplot(111)\n",
    "\n",
    "plt.scatter(vis_x, vis_y, c = y_temp_word, s = 70)\n",
    "plt.colorbar()\n",
    "plt.show()"
   ]
  },
  {
   "cell_type": "markdown",
   "metadata": {
    "heading_collapsed": true
   },
   "source": [
    "## SVM"
   ]
  },
  {
   "cell_type": "code",
   "execution_count": null,
   "metadata": {
    "collapsed": false,
    "hidden": true,
    "scrolled": true
   },
   "outputs": [],
   "source": [
    "\"\"\"\n",
    "10 fold Manual nested cross validation 50 times\n",
    "\"\"\"\n",
    "outer_random_seed_list = [3,13,23,33,43,53,63,73,83,93, 103,113,123,133,143,153,163,173,183,193,\n",
    "                         203,213,223,233,243,253,263,273,283,293, 303,313,323,333,343,353,363,373,383,393,\n",
    "                          403,413,423,433,443,453,463,473,483,493]\n",
    "random_seed_list = [2,12,22,32,42,52,62,72,82,92, 102,112,122,132,142,152,162,172,182,192,\n",
    "                   202,212,222,232,242,252,262,272,282,292, 302,312,322,332,342,352,362,372,382,392,\n",
    "                   402,412,422,432,442,452,462,472,482,492]\n",
    "\n",
    "precision_scores_mean_list = []\n",
    "recall_scores_mean_list = []\n",
    "f1_scores_mean_list = []\n",
    "\n",
    "precision_scores_std_list = []\n",
    "recall_scores_std_list = []\n",
    "f1_scores_std_list = []\n",
    "\n",
    "# Outer cv\n",
    "for index, rand_seed_i in enumerate(random_seed_list):\n",
    "    precision_scores = []\n",
    "    recall_scores = []\n",
    "    f1_scores = []\n",
    "    cv_outer = StratifiedKFold(n_splits = 10, shuffle = True, random_state = outer_random_seed_list[index])\n",
    "    for (train, test), color in zip(cv_outer.split(temp_word_scaled, y_temp_word), colors):\n",
    "        pipe_svc = Pipeline([('clf', SVC(random_state=1, probability = True))])\n",
    "        param_range = [0.0001, 0.001, 0.01, 0.1, 1.0, 10.0, 100.0, 1000.0]\n",
    "        param_grid = [{'clf__C': param_range, 'clf__kernel': ['linear']}, {'clf__C': param_range, \n",
    "                 'clf__gamma': param_range, 'clf__kernel': ['rbf']}]\n",
    "\n",
    "\n",
    "        #Inner cv\n",
    "        cv_inner = StratifiedKFold(n_splits = 5, shuffle = True, random_state = rand_seed_i)\n",
    "        gs = GridSearchCV(estimator=pipe_svc, param_grid=param_grid, scoring='f1', cv= cv_inner)\n",
    "\n",
    "        gs.fit(temp_word_scaled[train], y_temp_word[train])\n",
    "\n",
    "        #print gs.best_params_\n",
    "\n",
    "        scores = gs.best_estimator_.predict(temp_word_scaled[test])\n",
    "        precision_s = precision_score(y_temp_word[test], scores)\n",
    "        recall_s = recall_score(y_temp_word[test], scores)\n",
    "        f1_s = f1_score(y_temp_word[test], scores)\n",
    "        #print scores\n",
    "\n",
    "        precision_scores.append(precision_s)\n",
    "        recall_scores.append(recall_s)\n",
    "        f1_scores.append(f1_s)\n",
    "    \n",
    "    # These are the mean of the 10 folds of this particular iteration\n",
    "    print 'Loop:', index\n",
    "    print 'Precision:', np.mean(precision_scores), np.std(precision_scores) \n",
    "    print 'Recall:', np.mean(recall_scores), np.std(recall_scores)\n",
    "    print 'F1:', np.mean(f1_scores), np.std(f1_scores)\n",
    "    \n",
    "    # Adding to a list, the mean score from each iteration, this list will hold 50\n",
    "    # values from 50 iterations\n",
    "    precision_scores_mean_list.append(np.mean(precision_scores))\n",
    "    recall_scores_mean_list.append(np.mean(recall_scores))\n",
    "    f1_scores_mean_list.append(np.mean(f1_scores))\n",
    "    \n",
    "print 'Precision mean for 50 times:', np.mean(precision_scores_mean_list), 'Std. error:', stats.sem(precision_scores_mean_list)\n",
    "print 'Recall mean for 50 times:', np.mean(recall_scores_mean_list), 'Std. error:', stats.sem(recall_scores_mean_list)\n",
    "print 'F1 mean for 50 times:', np.mean(f1_scores_mean_list), 'Std. error:', stats.sem(f1_scores_mean_list)"
   ]
  },
  {
   "cell_type": "code",
   "execution_count": 19,
   "metadata": {
    "collapsed": false,
    "hidden": true
   },
   "outputs": [
    {
     "data": {
      "image/png": "[encoded data removed]",
      "text/plain": [
       "<matplotlib.figure.Figure at 0x7f9636fe9fd0>"
      ]
     },
     "metadata": {},
     "output_type": "display_data"
    }
   ],
   "source": [
    "sns.set_style(\"white\")\n",
    "plt.rc('ytick',labelsize=18)\n",
    "plt.rc('xtick',labelsize=18)\n",
    "_, axs = plt.subplots(1, 1, figsize=(12,9))\n",
    "#fig.set_size_inches(12.0, 8.0)\n",
    "def label_plot(ax, is_pr=True):\n",
    "    x, y = (('recall', 'precision')\n",
    "            if is_pr else\n",
    "            ('false pos rate', 'true pos rate'))\n",
    "    ax.set_xlabel('Recall', fontsize = 22)\n",
    "    ax.set_ylabel('Precision', fontsize = 22)\n",
    "    ax.set_xlim([0,1.02])\n",
    "    ax.set_ylim([0,1.02])\n",
    "    \n",
    "\n",
    "sampled_thresholds = np.linspace(0.0, 1.0, 100)\n",
    "sampled_precisions = []\n",
    "sampled_recalls = []\n",
    "# assume curves is a list of (precision, recall, threshold)\n",
    "# tuples where each of those three is a numpy array\n",
    "count = 0\n",
    "for precision, recall, threshold in zip(precision_svm, recall_svm, threshold_svm):\n",
    "    if count == 10:\n",
    "        break\n",
    "    sampled_precisions.append(\n",
    "np.interp(sampled_thresholds, threshold, precision[:-1]))\n",
    "    sampled_recalls.append(\n",
    "np.interp(sampled_thresholds, threshold, recall[:-1]))\n",
    "    count = count + 1\n",
    "\n",
    "axs.errorbar(\n",
    "    np.mean(sampled_recalls, axis=0),\n",
    "    np.mean(sampled_precisions, axis=0),\n",
    "    np.std(sampled_recalls, axis=0),\n",
    "    np.std(sampled_precisions, axis=0),\n",
    "    color='deepskyblue',\n",
    "    errorevery=10,\n",
    "    ecolor='orangered',\n",
    "    lw=2, fmt = '-',  capsize = 5, elinewidth=2,markeredgewidth=2, linewidth = 6.0, \n",
    "    label = 'Mean area = %0.3f' % (0.953))\n",
    "label_plot(axs)\n",
    "#axs.set_title('N={}'.format(N))\n",
    "plt.tick_params(size = 10)\n",
    "axs.spines[\"top\"].set_visible(False)  \n",
    "axs.spines[\"right\"].set_visible(False)\n",
    "axs.figure.set_size_inches(12, 9)\n",
    "axs.legend(loc = 'lower left', fontsize=20)\n",
    "axs.figure.savefig('pr-svm.pdf', format = 'pdf', dpi = 1200, bbox_inches=\"tight\")\n",
    "axs.figure.savefig('pr-svm.svg', format = 'svg', dpi = 1200, bbox_inches=\"tight\")"
   ]
  },
  {
   "cell_type": "code",
   "execution_count": 3,
   "metadata": {
    "collapsed": false,
    "hidden": true
   },
   "outputs": [
    {
     "name": "stdout",
     "output_type": "stream",
     "text": [
      "(0.87792570920430313, 0.0011493241231450848)\n",
      "(0.86396470588235286, 0.0011063027538615441)\n",
      "(0.86927821441025377, 0.00091497726291605056)\n"
     ]
    }
   ],
   "source": [
    "precision_scores_mean_list = [0.87251860568274231, 0.87452600778027723, 0.88535009001090592, 0.86778301146528702, 0.87314779531818076, 0.8772989062631279, 0.87601849725334868, 0.87601294571882815, 0.87453537747769805, 0.89108196254339445, 0.89069730210703835, 0.86156223613847449, 0.88751622692087584, 0.87343487506417072, 0.89346053966547334, 0.8801881297723082, 0.87558883887038541, 0.88547425612761388, 0.87746157826228743, 0.87031300793704724, 0.88594558109509358, 0.88319965430222103, 0.87845210331598711, 0.88139182490962686, 0.87039203068614834, 0.86606587921603406, 0.86550836550836541, 0.87906576998615527, 0.87057468811824523, 0.8776061448886775, 0.873527660611639, 0.87901716377178063, 0.87100648766515154, 0.87965268930028628, 0.88538153023447141, 0.87745842615755476, 0.87062022491028568, 0.89539753249372134, 0.87702654307336958, 0.88278831752266274, 0.88520895198107541, 0.85849559311633605, 0.88318122095184659, 0.8856086518052837, 0.88419106549680548, 0.86712330841956065, 0.86727812618604594, 0.88366273989632371, 0.8850559611956671, 0.8824310330192684]\n",
    "recall_scores_mean_list = [0.84689075630252098, 0.86394957983193277, 0.86428571428571443, 0.87319327731092444, 0.87243697478991589, 0.86142857142857143, 0.86126050420168065, 0.87252100840336122, 0.86680672268907555, 0.85563025210084009, 0.87571428571428578, 0.86142857142857143, 0.86420168067226899, 0.85252100840336131, 0.87563025210084044, 0.86428571428571421, 0.85848739495798321, 0.86722689075630244, 0.86983193277310922, 0.84672268907563031, 0.86991596638655477, 0.85831932773109243, 0.86949579831932766, 0.8671428571428571, 0.86151260504201677, 0.86142857142857154, 0.84999999999999998, 0.87016806722689088, 0.85529411764705876, 0.86731092436974799, 0.86411764705882366, 0.85521008403361343, 0.86420168067226888, 0.86134453781512621, 0.87588235294117656, 0.87016806722689088, 0.86991596638655455, 0.85823529411764699, 0.86117647058823543, 0.85521008403361343, 0.87243697478991589, 0.86655462184873944, 0.86386554621848732, 0.86134453781512621, 0.85554621848739498, 0.85268907563025209, 0.86134453781512621, 0.87588235294117633, 0.88142857142857134, 0.86663865546218477]\n",
    "f1_scores_mean_list = [0.85818466849157393, 0.86730266245753995, 0.87412385615929244, 0.8696447485450044, 0.87096069357333084, 0.86868440489665788, 0.86680474680413688, 0.8738152542837172, 0.86899344237289733, 0.87027708096132894, 0.88220863469766009, 0.86007498320606701, 0.87498955835157111, 0.86101722167593342, 0.88279614005328588, 0.86976527588387498, 0.86512411009285262, 0.87381820413448141, 0.87242856445033079, 0.85737360940971108, 0.87607937851534989, 0.86985104102268118, 0.87219403094205306, 0.8708853213199923, 0.86397184360892454, 0.86313985196435061, 0.85650446759952903, 0.87285423877840385, 0.85884130741209019, 0.87068723521781821, 0.86819575195395715, 0.8649257236803265, 0.86449221750328742, 0.86839796860556806, 0.87954608791337985, 0.87291671720678232, 0.86837087619783893, 0.8733172132889141, 0.86812760223665497, 0.8676455867984002, 0.87681242244323077, 0.86114441016808496, 0.87080713963714695, 0.8725694813233329, 0.8687913159035805, 0.85820651171409423, 0.86302767612509024, 0.87791929366131993, 0.88198100479291131, 0.87331914247634157]\n",
    "print (np.mean(precision_scores_mean_list), stats.sem(precision_scores_mean_list))\n",
    "print (np.mean(recall_scores_mean_list), stats.sem(recall_scores_mean_list))\n",
    "print (np.mean(f1_scores_mean_list), stats.sem(f1_scores_mean_list))"
   ]
  },
  {
   "cell_type": "markdown",
   "metadata": {
    "heading_collapsed": true
   },
   "source": [
    "## Logistic Regression"
   ]
  },
  {
   "cell_type": "code",
   "execution_count": 9,
   "metadata": {
    "collapsed": false,
    "hidden": true
   },
   "outputs": [
    {
     "name": "stderr",
     "output_type": "stream",
     "text": [
      "/home/nafizh/anaconda3/envs/py2/lib/python2.7/site-packages/sklearn/metrics/classification.py:1113: UndefinedMetricWarning: F-score is ill-defined and being set to 0.0 due to no predicted samples.\n",
      "  'precision', 'predicted', average, warn_for)\n"
     ]
    }
   ],
   "source": [
    "\"\"\"\n",
    "10 fold Manual nested cross validation 50 times\n",
    "\n",
    "Precision mean for 50 times: 0.850357548895 Std. error: 0.0010069625147\n",
    "Recall mean for 50 times: 0.823423529412 Std. error: 0.00136927974762\n",
    "F1 mean for 50 times: 0.834954168914 Std. error: 0.000955248279815\n",
    "\n",
    "\"\"\"\n",
    "\n",
    "colors = cycle(['cyan', 'crimson', 'seagreen', 'yellow', 'blue', 'darkorange', 'darkviolet', 'fuchsia',\n",
    "               'deepskyblue', 'lightcoral'])\n",
    "\n",
    "outer_random_seed_list = [3,13,23,33,43,53,63,73,83,93, 103,113,123,133,143,153,163,173,183,193,\n",
    "                         203,213,223,233,243,253,263,273,283,293, 303,313,323,333,343,353,363,373,383,393,\n",
    "                          403,413,423,433,443,453,463,473,483,493]\n",
    "random_seed_list = [2,12,22,32,42,52,62,72,82,92, 102,112,122,132,142,152,162,172,182,192,\n",
    "                   202,212,222,232,242,252,262,272,282,292, 302,312,322,332,342,352,362,372,382,392,\n",
    "                   402,412,422,432,442,452,462,472,482,492]\n",
    "\n",
    "precision_scores_mean_list = []\n",
    "recall_scores_mean_list = []\n",
    "f1_scores_mean_list = []\n",
    "\n",
    "precision_scores_std_list = []\n",
    "recall_scores_std_list = []\n",
    "f1_scores_std_list = []\n",
    "\n",
    "# Outer cv\n",
    "for index, rand_seed_i in enumerate(random_seed_list):\n",
    "    precision_scores = []\n",
    "    recall_scores = []\n",
    "    f1_scores = []\n",
    "    cv_outer = StratifiedKFold(n_splits = 10, shuffle = True, random_state = outer_random_seed_list[index])\n",
    "    for (train, test), color in zip(cv_outer.split(temp_word_scaled, y_temp_word), colors):\n",
    "        pipe_logis = Pipeline([('logis', LogisticRegression(random_state = 1))])\n",
    "        param_range = [0.0001, 0.001, 0.01, 0.1, 1.0, 10.0, 100.0, 1000.0]\n",
    "        param_grid = [{'logis__C': param_range, 'logis__penalty': ['l1']}, \n",
    "             {'logis__C': param_range, 'logis__penalty': ['l2']}]\n",
    "\n",
    "\n",
    "        #Inner cv\n",
    "        cv_inner = StratifiedKFold(n_splits = 5, shuffle = True, random_state = rand_seed_i)\n",
    "        gs = GridSearchCV(estimator=pipe_logis, param_grid=param_grid, scoring='f1', cv= cv_inner)\n",
    "\n",
    "        gs.fit(temp_word_scaled[train], y_temp_word[train])\n",
    "\n",
    "        #print gs.best_params_\n",
    "\n",
    "        scores = gs.best_estimator_.predict(temp_word_scaled[test])\n",
    "        precision_s = precision_score(y_temp_word[test], scores)\n",
    "        recall_s = recall_score(y_temp_word[test], scores)\n",
    "        f1_s = f1_score(y_temp_word[test], scores)\n",
    "        #print scores\n",
    "\n",
    "        precision_scores.append(precision_s)\n",
    "        recall_scores.append(recall_s)\n",
    "        f1_scores.append(f1_s)\n",
    "    \n",
    "    # These are the mean of the 10 folds of this particular iteration\n",
    "    print 'Loop:', index\n",
    "    print 'Precision:', np.mean(precision_scores), np.std(precision_scores) \n",
    "    print 'Recall:', np.mean(recall_scores), np.std(recall_scores)\n",
    "    print 'F1:', np.mean(f1_scores), np.std(f1_scores)\n",
    "    \n",
    "    # Adding to a list, the mean score from each iteration, this list will hold 50\n",
    "    # values from 50 iterations\n",
    "    precision_scores_mean_list.append(np.mean(precision_scores))\n",
    "    recall_scores_mean_list.append(np.mean(recall_scores))\n",
    "    f1_scores_mean_list.append(np.mean(f1_scores))\n",
    "    \n",
    "print 'Precision mean for 50 times:', np.mean(precision_scores_mean_list), 'Std. error:', stats.sem(precision_scores_mean_list)\n",
    "print 'Recall mean for 50 times:', np.mean(recall_scores_mean_list), 'Std. error:', stats.sem(recall_scores_mean_list)\n",
    "print 'F1 mean for 50 times:', np.mean(f1_scores_mean_list), 'Std. error:', stats.sem(f1_scores_mean_list)"
   ]
  },
  {
   "cell_type": "code",
   "execution_count": 10,
   "metadata": {
    "collapsed": true,
    "hidden": true
   },
   "outputs": [
    {
     "data": {
      "text/plain": [
       "[0.85880159352142105,\n",
       " 0.84437669908258139,\n",
       " 0.85512014167433459,\n",
       " 0.8520527197365434,\n",
       " 0.84149621117224016,\n",
       " 0.86341781575047283,\n",
       " 0.85212369014076805,\n",
       " 0.83983906658021679,\n",
       " 0.85969190419437047,\n",
       " 0.84108736983736987,\n",
       " 0.84079834082614957,\n",
       " 0.84109278635132534,\n",
       " 0.85682565312446468,\n",
       " 0.84816809231420243,\n",
       " 0.84793266441355164,\n",
       " 0.83460797429450684,\n",
       " 0.8464324903959628,\n",
       " 0.86826647878355667,\n",
       " 0.83752342868772744,\n",
       " 0.85323320809388914,\n",
       " 0.85651917479803719,\n",
       " 0.86086306398119794,\n",
       " 0.84756270005558432,\n",
       " 0.85172135076056377,\n",
       " 0.84730816789640317,\n",
       " 0.84482949675074914,\n",
       " 0.8554778607719784,\n",
       " 0.84927703437191104,\n",
       " 0.84570517529391265,\n",
       " 0.85374620824217595,\n",
       " 0.84198343079922022,\n",
       " 0.85197552776860286,\n",
       " 0.851876969370297,\n",
       " 0.85955649208227103,\n",
       " 0.84181162505859375,\n",
       " 0.85232883075135124,\n",
       " 0.83837182101887975,\n",
       " 0.85212748247541792,\n",
       " 0.849399082599547,\n",
       " 0.8542107955938425,\n",
       " 0.85243780516264545,\n",
       " 0.85408397000427372,\n",
       " 0.8528334485343132,\n",
       " 0.84986989936083701,\n",
       " 0.85526341314966103,\n",
       " 0.84550315802331932,\n",
       " 0.85594570018331628,\n",
       " 0.85780397829259325,\n",
       " 0.85385564241122047,\n",
       " 0.85073981021349443]"
      ]
     },
     "execution_count": 10,
     "metadata": {},
     "output_type": "execute_result"
    }
   ],
   "source": [
    "# so that don't have to run the experiment again\n",
    "precision_scores_mean_list"
   ]
  },
  {
   "cell_type": "code",
   "execution_count": 11,
   "metadata": {
    "collapsed": true,
    "hidden": true
   },
   "outputs": [
    {
     "data": {
      "text/plain": [
       "[0.80067226890756305,\n",
       " 0.8265546218487394,\n",
       " 0.82924369747899151,\n",
       " 0.82386554621848751,\n",
       " 0.79983193277310927,\n",
       " 0.81252100840336128,\n",
       " 0.8234453781512604,\n",
       " 0.8036974789915966,\n",
       " 0.82025210084033606,\n",
       " 0.82647058823529418,\n",
       " 0.81193277310924361,\n",
       " 0.81848739495798328,\n",
       " 0.82663865546218496,\n",
       " 0.80907563025210083,\n",
       " 0.83226890756302507,\n",
       " 0.8294117647058824,\n",
       " 0.81226890756302517,\n",
       " 0.83504201680672274,\n",
       " 0.82067226890756295,\n",
       " 0.83554621848739496,\n",
       " 0.82647058823529407,\n",
       " 0.8147899159663865,\n",
       " 0.8321008403361343,\n",
       " 0.82386554621848729,\n",
       " 0.8272268907563024,\n",
       " 0.82974789915966396,\n",
       " 0.83277310924369752,\n",
       " 0.82361344537815118,\n",
       " 0.82084033613445373,\n",
       " 0.81521008403361361,\n",
       " 0.8147899159663865,\n",
       " 0.81773109243697473,\n",
       " 0.8321008403361343,\n",
       " 0.82050420168067217,\n",
       " 0.8234453781512604,\n",
       " 0.81798319327731084,\n",
       " 0.81798319327731084,\n",
       " 0.8265546218487394,\n",
       " 0.84134453781512608,\n",
       " 0.84344537815126053,\n",
       " 0.82336134453781518,\n",
       " 0.84067226890756308,\n",
       " 0.82058823529411762,\n",
       " 0.81453781512605039,\n",
       " 0.83235294117647052,\n",
       " 0.82386554621848729,\n",
       " 0.82949579831932763,\n",
       " 0.83554621848739496,\n",
       " 0.82092436974789906,\n",
       " 0.8294117647058824]"
      ]
     },
     "execution_count": 11,
     "metadata": {},
     "output_type": "execute_result"
    }
   ],
   "source": [
    "# so that don't have to run the experiment again\n",
    "recall_scores_mean_list"
   ]
  },
  {
   "cell_type": "code",
   "execution_count": 12,
   "metadata": {
    "collapsed": true,
    "hidden": true
   },
   "outputs": [
    {
     "data": {
      "text/plain": [
       "[0.82815529204130467,\n",
       " 0.83474057109327138,\n",
       " 0.84113130021983518,\n",
       " 0.83702681192279249,\n",
       " 0.81648904293051938,\n",
       " 0.835305251772539,\n",
       " 0.83636612500415397,\n",
       " 0.82050620356435933,\n",
       " 0.83726508075612949,\n",
       " 0.83225245886296473,\n",
       " 0.82468901852311016,\n",
       " 0.82787478637350864,\n",
       " 0.83897517575442104,\n",
       " 0.82667041980470712,\n",
       " 0.83888030880933973,\n",
       " 0.8310501015166446,\n",
       " 0.82821228522721069,\n",
       " 0.84889188610071142,\n",
       " 0.82713092406484279,\n",
       " 0.84132176394838909,\n",
       " 0.84014378119904332,\n",
       " 0.83618413029540528,\n",
       " 0.83854186999775548,\n",
       " 0.83355636376615005,\n",
       " 0.83395756484287475,\n",
       " 0.83630999283675889,\n",
       " 0.84212058680085866,\n",
       " 0.83547709634995182,\n",
       " 0.82961211565926196,\n",
       " 0.83255415286381174,\n",
       " 0.82635817299476177,\n",
       " 0.83225577741205536,\n",
       " 0.84037337373691512,\n",
       " 0.83685120454383899,\n",
       " 0.83067359542306396,\n",
       " 0.83282876874492617,\n",
       " 0.82585143476596823,\n",
       " 0.83711829503461654,\n",
       " 0.84408969061342898,\n",
       " 0.84728330197153368,\n",
       " 0.83369118105231421,\n",
       " 0.84630361895657646,\n",
       " 0.83484629525540499,\n",
       " 0.8308998938807457,\n",
       " 0.84277467302263354,\n",
       " 0.83274469781504057,\n",
       " 0.84089967580273461,\n",
       " 0.84558307087610785,\n",
       " 0.83596164827600072,\n",
       " 0.83892761260119963]"
      ]
     },
     "execution_count": 12,
     "metadata": {},
     "output_type": "execute_result"
    }
   ],
   "source": [
    "# so that don't have to run the experiment again\n",
    "f1_scores_mean_list"
   ]
  },
  {
   "cell_type": "code",
   "execution_count": 26,
   "metadata": {
    "collapsed": true,
    "hidden": true
   },
   "outputs": [],
   "source": [
    "print gs.best_estimator_\n",
    "print np.mean(f1_scores)\n",
    "print np.std(f1_scores)"
   ]
  },
  {
   "cell_type": "code",
   "execution_count": 38,
   "metadata": {
    "collapsed": true,
    "hidden": true
   },
   "outputs": [],
   "source": [
    "def find_optimal_cutoff(target, predicted):\n",
    "    fpr, tpr, threshold = roc_curve(target, predicted)\n",
    "    i = np.arange(len(tpr)) \n",
    "    roc = pd.DataFrame({'tf' : pd.Series(tpr-(1-fpr), index=i), 'threshold' : pd.Series(threshold, index=i)})\n",
    "    roc_t = roc.ix[(roc.tf-0).abs().argsort()[:1]]\n",
    "\n",
    "    return list(roc_t['threshold']) \n",
    "\n",
    "# Find optimal probability threshold\n",
    "#scores = models_logis_c[2].predict(x_train_compressed)\n",
    "temp_mod = LogisticRegression(C = 0.1, penalty = 'l2', random_state = 1)\n",
    "temp_mod.fit(x_word_scaled, y_word)\n",
    "logi_prob_c = temp_mod.predict_proba(x_word_scaled)\n",
    "threshold = find_optimal_cutoff(y_word, logi_prob_c[:, 1])\n",
    "print threshold\n",
    "#print logi_prob_c[:, 1]"
   ]
  },
  {
   "cell_type": "markdown",
   "metadata": {
    "heading_collapsed": true
   },
   "source": [
    "## Decision Tree"
   ]
  },
  {
   "cell_type": "code",
   "execution_count": 11,
   "metadata": {
    "collapsed": true,
    "hidden": true
   },
   "outputs": [],
   "source": [
    "\"\"\"\n",
    "10 fold nested cross validation 50 times\n",
    "\"\"\"\n",
    "\n",
    "colors = cycle(['cyan', 'crimson', 'seagreen', 'yellow', 'blue', 'darkorange', 'darkviolet', 'fuchsia',\n",
    "               'deepskyblue', 'lightcoral'])\n",
    "\n",
    "outer_random_seed_list = [3,13,23,33,43,53,63,73,83,93, 103,113,123,133,143,153,163,173,183,193,\n",
    "                         203,213,223,233,243,253,263,273,283,293, 303,313,323,333,343,353,363,373,383,393,\n",
    "                          403,413,423,433,443,453,463,473,483,493]\n",
    "random_seed_list = [2,12,22,32,42,52,62,72,82,92, 102,112,122,132,142,152,162,172,182,192,\n",
    "                   202,212,222,232,242,252,262,272,282,292, 302,312,322,332,342,352,362,372,382,392,\n",
    "                   402,412,422,432,442,452,462,472,482,492]\n",
    "\n",
    "precision_scores_mean_list = []\n",
    "recall_scores_mean_list = []\n",
    "f1_scores_mean_list = []\n",
    "\n",
    "precision_scores_std_list = []\n",
    "recall_scores_std_list = []\n",
    "f1_scores_std_list = []\n",
    "\n",
    "# Outer cv\n",
    "for index, rand_seed_i in enumerate(random_seed_list):\n",
    "    precision_scores = []\n",
    "    recall_scores = []\n",
    "    f1_scores = []\n",
    "    cv_outer = StratifiedKFold(n_splits = 10, shuffle = True, random_state = outer_random_seed_list[index])\n",
    "    for (train, test), color in zip(cv_outer.split(temp_word_scaled, y_temp_word), colors):\n",
    "        pipe_dect = Pipeline([('dect', DecisionTreeClassifier(random_state=1))])\n",
    "        #param_range = [0.0001, 0.001, 0.01, 0.1, 1.0, 10.0, 100.0, 1000.0]\n",
    "        param_grid = [{'dect__criterion': ['gini', 'entropy'], 'dect__max_depth': [3,4,5,6,7,8,9,10,None]},\n",
    "             {'dect__criterion': ['gini', 'entropy'], 'dect__max_depth': [3,4,5,6,7,8,9,10,None],\n",
    "             'dect__class_weight': ['balanced']}]\n",
    "\n",
    "\n",
    "        #Inner cv\n",
    "        cv_inner = StratifiedKFold(n_splits = 5, shuffle = True, random_state = rand_seed_i)\n",
    "        gs = GridSearchCV(estimator=pipe_dect, param_grid=param_grid, scoring='f1', cv= cv_inner)\n",
    "\n",
    "        gs.fit(temp_word_scaled[train], y_temp_word[train])\n",
    "\n",
    "        #print gs.best_params_\n",
    "\n",
    "        scores = gs.best_estimator_.predict(temp_word_scaled[test])\n",
    "        precision_s = precision_score(y_temp_word[test], scores)\n",
    "        recall_s = recall_score(y_temp_word[test], scores)\n",
    "        f1_s = f1_score(y_temp_word[test], scores)\n",
    "        #print scores\n",
    "\n",
    "        precision_scores.append(precision_s)\n",
    "        recall_scores.append(recall_s)\n",
    "        f1_scores.append(f1_s)\n",
    "    \n",
    "    # These are the mean of the 10 folds of this particular iteration\n",
    "    print 'Loop:', index\n",
    "    print 'Precision:', np.mean(precision_scores), np.std(precision_scores) \n",
    "    print 'Recall:', np.mean(recall_scores), np.std(recall_scores)\n",
    "    print 'F1:', np.mean(f1_scores), np.std(f1_scores)\n",
    "    \n",
    "    # Adding to a list, the mean score from each iteration, this list will hold 50\n",
    "    # values from 50 iterations\n",
    "    precision_scores_mean_list.append(np.mean(precision_scores))\n",
    "    recall_scores_mean_list.append(np.mean(recall_scores))\n",
    "    f1_scores_mean_list.append(np.mean(f1_scores))\n",
    "    \n",
    "print 'Precision mean for 50 times:', np.mean(precision_scores_mean_list), 'Std. error:', stats.sem(precision_scores_mean_list)\n",
    "print 'Recall mean for 50 times:', np.mean(recall_scores_mean_list), 'Std. error:', stats.sem(recall_scores_mean_list)\n",
    "print 'F1 mean for 50 times:', np.mean(f1_scores_mean_list), 'Std. error:', stats.sem(f1_scores_mean_list)"
   ]
  },
  {
   "cell_type": "markdown",
   "metadata": {
    "heading_collapsed": true
   },
   "source": [
    "## Random Forest"
   ]
  },
  {
   "cell_type": "code",
   "execution_count": 7,
   "metadata": {
    "collapsed": true,
    "hidden": true
   },
   "outputs": [],
   "source": [
    "\"\"\"\n",
    "10 fold nested cross validation 50 times\n",
    "\n",
    "Precision mean for 50 times: 0.82080014791 Std. error: 0.00158100355235\n",
    "Recall mean for 50 times: 0.813378151261 Std. error: 0.00222232197977\n",
    "F1 mean for 50 times: 0.814986764965 Std. error: 0.00147923398584\n",
    "\n",
    "\"\"\"\n",
    "\n",
    "colors = cycle(['cyan', 'crimson', 'seagreen', 'yellow', 'blue', 'darkorange', 'darkviolet', 'fuchsia',\n",
    "               'deepskyblue', 'lightcoral'])\n",
    "\n",
    "outer_random_seed_list = [3,13,23,33,43,53,63,73,83,93, 103,113,123,133,143,153,163,173,183,193,\n",
    "                         203,213,223,233,243,253,263,273,283,293, 303,313,323,333,343,353,363,373,383,393,\n",
    "                          403,413,423,433,443,453,463,473,483,493]\n",
    "random_seed_list = [2,12,22,32,42,52,62,72,82,92, 102,112,122,132,142,152,162,172,182,192,\n",
    "                   202,212,222,232,242,252,262,272,282,292, 302,312,322,332,342,352,362,372,382,392,\n",
    "                   402,412,422,432,442,452,462,472,482,492]\n",
    "\n",
    "precision_scores_mean_list = []\n",
    "recall_scores_mean_list = []\n",
    "f1_scores_mean_list = []\n",
    "\n",
    "precision_scores_std_list = []\n",
    "recall_scores_std_list = []\n",
    "f1_scores_std_list = []\n",
    "\n",
    "# Outer cv\n",
    "for index, rand_seed_i in enumerate(random_seed_list):\n",
    "    precision_scores = []\n",
    "    recall_scores = []\n",
    "    f1_scores = []\n",
    "    cv_outer = StratifiedKFold(n_splits = 10, shuffle = True, random_state = outer_random_seed_list[index])\n",
    "    for (train, test), color in zip(cv_outer.split(temp_word_scaled, y_temp_word), colors):\n",
    "        pipe_randf = Pipeline([('randf', RandomForestClassifier(random_state=1))])\n",
    "        #param_range = [0.0001, 0.001, 0.01, 0.1, 1.0, 10.0, 100.0, 1000.0]\n",
    "        param_grid = [{'randf__n_estimators': [10, 13, 15, 17, 20], 'randf__criterion': ['gini', 'entropy'], \n",
    "               'randf__max_depth': [3,4,5,6,7,8,9,10,None]},\n",
    "             {'randf__n_estimators': [10, 13, 15, 17, 20], 'randf__criterion': ['gini', 'entropy'], \n",
    "              'randf__max_depth': [3,4,5,6,7,8,9,10,None], 'randf__class_weight': ['balanced']}]\n",
    "\n",
    "\n",
    "        #Inner cv\n",
    "        cv_inner = StratifiedKFold(n_splits = 5, shuffle = True, random_state = rand_seed_i)\n",
    "        gs = GridSearchCV(estimator=pipe_randf, param_grid=param_grid, scoring='f1', cv= cv_inner)\n",
    "\n",
    "        gs.fit(temp_word_scaled[train], y_temp_word[train])\n",
    "\n",
    "        #print gs.best_params_\n",
    "\n",
    "        scores = gs.best_estimator_.predict(temp_word_scaled[test])\n",
    "        precision_s = precision_score(y_temp_word[test], scores)\n",
    "        recall_s = recall_score(y_temp_word[test], scores)\n",
    "        f1_s = f1_score(y_temp_word[test], scores)\n",
    "        #print scores\n",
    "\n",
    "        precision_scores.append(precision_s)\n",
    "        recall_scores.append(recall_s)\n",
    "        f1_scores.append(f1_s)\n",
    "    \n",
    "    # These are the mean of the 10 folds of this particular iteration\n",
    "    print 'Loop:', index\n",
    "    print 'Precision:', np.mean(precision_scores), np.std(precision_scores) \n",
    "    print 'Recall:', np.mean(recall_scores), np.std(recall_scores)\n",
    "    print 'F1:', np.mean(f1_scores), np.std(f1_scores)\n",
    "    \n",
    "    # Adding to a list, the mean score from each iteration, this list will hold 50\n",
    "    # values from 50 iterations\n",
    "    precision_scores_mean_list.append(np.mean(precision_scores))\n",
    "    recall_scores_mean_list.append(np.mean(recall_scores))\n",
    "    f1_scores_mean_list.append(np.mean(f1_scores))\n",
    "    \n",
    "print 'Precision mean for 50 times:', np.mean(precision_scores_mean_list), 'Std. error:', stats.sem(precision_scores_mean_list)\n",
    "print 'Recall mean for 50 times:', np.mean(recall_scores_mean_list), 'Std. error:', stats.sem(recall_scores_mean_list)\n",
    "print 'F1 mean for 50 times:', np.mean(f1_scores_mean_list), 'Std. error:', stats.sem(f1_scores_mean_list)"
   ]
  },
  {
   "cell_type": "code",
   "execution_count": 8,
   "metadata": {
    "collapsed": true,
    "hidden": true
   },
   "outputs": [
    {
     "data": {
      "text/plain": [
       "[0.82477526825345537,\n",
       " 0.81103575711934839,\n",
       " 0.83244475850225874,\n",
       " 0.81405237632791805,\n",
       " 0.81062133026579242,\n",
       " 0.82305477857075215,\n",
       " 0.79813715868594526,\n",
       " 0.80852343847200525,\n",
       " 0.81054993221054927,\n",
       " 0.81802155459029113,\n",
       " 0.82511502073074605,\n",
       " 0.83000152043795306,\n",
       " 0.81586059391806898,\n",
       " 0.79850251927909344,\n",
       " 0.81799483854749511,\n",
       " 0.82201059420633449,\n",
       " 0.81463947890031485,\n",
       " 0.82383078840355706,\n",
       " 0.82437011269928484,\n",
       " 0.81871512997388152,\n",
       " 0.84312134850060549,\n",
       " 0.82823473864189834,\n",
       " 0.82863735282353124,\n",
       " 0.81582348057717125,\n",
       " 0.80769514641031681,\n",
       " 0.81500980637010056,\n",
       " 0.83956751394251405,\n",
       " 0.82505917130205542,\n",
       " 0.82549296744661671,\n",
       " 0.79272767497867558,\n",
       " 0.82228945429103517,\n",
       " 0.8181868769012981,\n",
       " 0.83807726173091202,\n",
       " 0.82293244588466585,\n",
       " 0.81649782809609517,\n",
       " 0.81351243465340828,\n",
       " 0.83013943549547253,\n",
       " 0.83663011155316203,\n",
       " 0.83798033300082575,\n",
       " 0.82319060664648891,\n",
       " 0.82420864802184446,\n",
       " 0.84857344905394938,\n",
       " 0.812194818143125,\n",
       " 0.83034708519035139,\n",
       " 0.81342468902823595,\n",
       " 0.82242725334619671,\n",
       " 0.81472088800362052,\n",
       " 0.80883752210958093,\n",
       " 0.81844311776974321,\n",
       " 0.82376698550847161]"
      ]
     },
     "execution_count": 8,
     "metadata": {},
     "output_type": "execute_result"
    }
   ],
   "source": [
    "precision_scores_mean_list"
   ]
  },
  {
   "cell_type": "code",
   "execution_count": 9,
   "metadata": {
    "collapsed": true,
    "hidden": true
   },
   "outputs": [
    {
     "data": {
      "text/plain": [
       "[0.8125210084033615,\n",
       " 0.82394957983193273,\n",
       " 0.8294117647058824,\n",
       " 0.8036974789915966,\n",
       " 0.79689075630252104,\n",
       " 0.78638655462184881,\n",
       " 0.80033613445378149,\n",
       " 0.83193277310924374,\n",
       " 0.81159663865546217,\n",
       " 0.82075630252100851,\n",
       " 0.81218487394957983,\n",
       " 0.82025210084033606,\n",
       " 0.83554621848739496,\n",
       " 0.81781512605042006,\n",
       " 0.8125210084033615,\n",
       " 0.78613445378151259,\n",
       " 0.78873949579831937,\n",
       " 0.81210084033613439,\n",
       " 0.83529411764705874,\n",
       " 0.81504201680672261,\n",
       " 0.82327731092436984,\n",
       " 0.80596638655462183,\n",
       " 0.81739495798319317,\n",
       " 0.8123529411764705,\n",
       " 0.83016806722689063,\n",
       " 0.80092436974789938,\n",
       " 0.80647058823529405,\n",
       " 0.80344537815126049,\n",
       " 0.80630252100840338,\n",
       " 0.78058823529411758,\n",
       " 0.84058823529411764,\n",
       " 0.82941176470588229,\n",
       " 0.80310924369747894,\n",
       " 0.78588235294117648,\n",
       " 0.81201680672268906,\n",
       " 0.81521008403361339,\n",
       " 0.85554621848739509,\n",
       " 0.82369747899159651,\n",
       " 0.81781512605042006,\n",
       " 0.80025210084033616,\n",
       " 0.81747899159663862,\n",
       " 0.80588235294117649,\n",
       " 0.80352941176470583,\n",
       " 0.81470588235294117,\n",
       " 0.83235294117647052,\n",
       " 0.82672268907563018,\n",
       " 0.81806722689075628,\n",
       " 0.81773109243697473,\n",
       " 0.78277310924369758,\n",
       " 0.82613445378151273]"
      ]
     },
     "execution_count": 9,
     "metadata": {},
     "output_type": "execute_result"
    }
   ],
   "source": [
    "recall_scores_mean_list"
   ]
  },
  {
   "cell_type": "code",
   "execution_count": 10,
   "metadata": {
    "collapsed": true,
    "hidden": true
   },
   "outputs": [
    {
     "data": {
      "text/plain": [
       "[0.81577464447317394,\n",
       " 0.81663654033849631,\n",
       " 0.82855153469747012,\n",
       " 0.80784383376823377,\n",
       " 0.80123113226671072,\n",
       " 0.80358559783813632,\n",
       " 0.79725536992641499,\n",
       " 0.81874211661620233,\n",
       " 0.80953430832277784,\n",
       " 0.8172820928052662,\n",
       " 0.81704352581389639,\n",
       " 0.82344834623549745,\n",
       " 0.82302505249124691,\n",
       " 0.80552606387130576,\n",
       " 0.81365669154700626,\n",
       " 0.80327376800522587,\n",
       " 0.80040256757277284,\n",
       " 0.81498684368483887,\n",
       " 0.82844948924843576,\n",
       " 0.8150956644941264,\n",
       " 0.83063465587816121,\n",
       " 0.8144660736660525,\n",
       " 0.82123676553325775,\n",
       " 0.81199852740519574,\n",
       " 0.81482882473781026,\n",
       " 0.80625111404070604,\n",
       " 0.82115406689581949,\n",
       " 0.81268468355008117,\n",
       " 0.81322942412597321,\n",
       " 0.7832749144765293,\n",
       " 0.82870424180622015,\n",
       " 0.82223453555459236,\n",
       " 0.81726195258099976,\n",
       " 0.80041258202574073,\n",
       " 0.81257017803864107,\n",
       " 0.81221442599979032,\n",
       " 0.84125858008354459,\n",
       " 0.82850439325286018,\n",
       " 0.82633614512185094,\n",
       " 0.8100209311746811,\n",
       " 0.81835150836429604,\n",
       " 0.82507226223152874,\n",
       " 0.80489602231012591,\n",
       " 0.82043525712727605,\n",
       " 0.820621861619796,\n",
       " 0.82293347735580402,\n",
       " 0.81476388155758495,\n",
       " 0.81250810676855656,\n",
       " 0.79628420132062327,\n",
       " 0.82284946962859107]"
      ]
     },
     "execution_count": 10,
     "metadata": {},
     "output_type": "execute_result"
    }
   ],
   "source": [
    "f1_scores_mean_list"
   ]
  },
  {
   "cell_type": "markdown",
   "metadata": {
    "collapsed": true,
    "heading_collapsed": true
   },
   "source": [
    "## Wild data"
   ]
  },
  {
   "cell_type": "code",
   "execution_count": 6,
   "metadata": {
    "collapsed": false,
    "hidden": true
   },
   "outputs": [
    {
     "data": {
      "text/plain": [
       "SVC(C=1.0, cache_size=200, class_weight=None, coef0=0.0,\n",
       "  decision_function_shape=None, degree=3, gamma=0.01, kernel='rbf',\n",
       "  max_iter=-1, probability=True, random_state=1, shrinking=True, tol=0.001,\n",
       "  verbose=False)"
      ]
     },
     "execution_count": 6,
     "metadata": {},
     "output_type": "execute_result"
    }
   ],
   "source": [
    "\"\"\"\n",
    "Final svm model that we will apply on the 50kb identified regions\n",
    "\"\"\"\n",
    "from sklearn.svm import SVC\n",
    "from sklearn import metrics\n",
    "\n",
    "svm_classifier = None\n",
    "svm_classifier = SVC(gamma = 0.01, C = 1.0, kernel = 'rbf', random_state = 1, probability = True)\n",
    "svm_classifier.fit(temp_word_scaled, y_temp_word)"
   ]
  },
  {
   "cell_type": "code",
   "execution_count": 13,
   "metadata": {
    "collapsed": false,
    "hidden": true,
    "scrolled": true
   },
   "outputs": [
    {
     "name": "stdout",
     "output_type": "stream",
     "text": [
      "Done\n"
     ]
    }
   ],
   "source": [
    "\"\"\"\n",
    "Getting SVM predictions for all lactobacillus geneblocks, and writing it down to a file\n",
    "\"\"\"\n",
    "\n",
    "os.chdir('/home/nafizh/ML_works/')\n",
    "\n",
    "target_dir = '/home/nafizh/ML_works/all_gene_blocks'\n",
    "out_handle = open('temp_word_svm_wild_predictions_lacto_10_fold_all_lactobacillus', 'w')\n",
    "\n",
    "\n",
    "for index_2, record in enumerate(SeqIO.parse('all_lactobacillus_sequences_from_geneblocks', 'fasta')):\n",
    "    wild_word = np.zeros(shape=(1, 200))\n",
    "    sum_of_sequence = 0\n",
    "    tri_tokens = trigrams(record.seq)\n",
    "    for item in ((tri_tokens)):\n",
    "        tri_str = item[0] + item[1] + item[2]\n",
    "        if tri_str not in list(new_model.wv.vocab):\n",
    "            continue\n",
    "        #print tri_str\n",
    "        #print \n",
    "        sum_of_sequence = sum_of_sequence + new_model[tri_str]\n",
    "    wild_word[0] = sum_of_sequence\n",
    "            \n",
    "    #print wild_word.shape        \n",
    "    wild_word_scaled = temp_scaler.transform(wild_word)\n",
    "    scores = svm_classifier.predict(wild_word_scaled)\n",
    "    scores_prob = svm_classifier.predict_proba(wild_word_scaled)\n",
    "    \n",
    "    #print scores_prob\n",
    "    out_handle.write('>%s|%f\\n%s\\n' % (record.description, scores_prob[0][1],\n",
    "                                      record.seq))\n",
    "            \n",
    "    #break\n",
    "        \n",
    "out_handle.close()\n",
    "print \"Done\""
   ]
  },
  {
   "cell_type": "code",
   "execution_count": 16,
   "metadata": {
    "collapsed": false,
    "hidden": true
   },
   "outputs": [
    {
     "name": "stdout",
     "output_type": "stream",
     "text": [
      "(0.89827678406570011, 0.0031006955683146151)\n",
      "(0.88356302521020003, 0.0033495170064204707)\n",
      "(0.88955416262079989, 0.0018112656009684621)\n"
     ]
    }
   ],
   "source": [
    "\"\"\"\n",
    "Results from the ultimate RNN model 10x cv done 10 times\n",
    "\"\"\"\n",
    "from scipy import stats\n",
    "precision_scores_mean_list = [0.898751842842,0.891150136506,0.911248833481,0.905243109678,0.895588235635,\n",
    "                              0.875117928979,0.898140918179,0.902187168638,0.902643065998,0.902696600721]\n",
    "recall_scores_mean_list = [0.881764705882,0.878655462185,0.861092436975,0.875630252101,0.889915966387,\n",
    "                          0.887647058824,0.901680672269,0.887142857143,0.887478991597,0.884621848739]\n",
    "f1_scores_mean_list = [0.889239344052,0.882952702948,0.884190526316,0.88864776516,0.893829024989,\n",
    "                      0.880050504007,0.898368969946,0.893173768549,0.894079475712,0.891009544529]\n",
    "\n",
    "print (np.mean(precision_scores_mean_list), stats.sem(precision_scores_mean_list))\n",
    "print (np.mean(recall_scores_mean_list), stats.sem(recall_scores_mean_list))\n",
    "print (np.mean(f1_scores_mean_list), stats.sem(f1_scores_mean_list))"
   ]
  }
 ],
 "metadata": {
  "kernelspec": {
   "display_name": "Python 2",
   "language": "python",
   "name": "python2"
  },
  "language_info": {
   "codemirror_mode": {
    "name": "ipython",
    "version": 2
   },
   "file_extension": ".py",
   "mimetype": "text/x-python",
   "name": "python",
   "nbconvert_exporter": "python",
   "pygments_lexer": "ipython2",
   "version": "2.7.13"
  }
 },
 "nbformat": 4,
 "nbformat_minor": 2
}
