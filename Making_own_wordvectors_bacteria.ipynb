{
 "cells": [
  {
   "cell_type": "code",
   "execution_count": 2,
   "metadata": {
    "collapsed": true
   },
   "outputs": [],
   "source": [
    "%matplotlib inline\n",
    "import matplotlib.pyplot as plt\n",
    "plt.rcParams['figure.figsize'] = (10.0, 7.0)\n",
    "\n",
    "import collections\n",
    "import nltk\n",
    "from collections import defaultdict\n",
    "from nltk import bigrams\n",
    "from nltk import trigrams\n",
    "import pandas as pd\n",
    "from Bio import SeqIO\n",
    "from sklearn.preprocessing import normalize\n",
    "import numpy as np\n",
    "from sklearn.decomposition import TruncatedSVD\n",
    "from sklearn.manifold import TSNE\n",
    "import pandas as pad\n",
    "import gensim, logging\n",
    "logging.basicConfig(format='%(asctime)s : %(levelname)s : %(message)s', level=logging.INFO, stream = sys.stdout)"
   ]
  },
  {
   "cell_type": "code",
   "execution_count": 1,
   "metadata": {
    "collapsed": true
   },
   "outputs": [],
   "source": [
    "import sys\n",
    "nb_stdout = sys.stdout\n",
    "sys.stdout = open('/dev/stdout', 'w')\n",
    "print 'hello'"
   ]
  },
  {
   "cell_type": "code",
   "execution_count": 3,
   "metadata": {
    "collapsed": true
   },
   "outputs": [],
   "source": [
    "print 'hi'"
   ]
  },
  {
   "cell_type": "code",
   "execution_count": null,
   "metadata": {
    "collapsed": true
   },
   "outputs": [],
   "source": [
    "sys.stdout = nb_stdout"
   ]
  },
  {
   "cell_type": "code",
   "execution_count": 6,
   "metadata": {
    "collapsed": true
   },
   "outputs": [],
   "source": [
    "class MySentences(object):\n",
    "    def __init__(self):\n",
    "        pass\n",
    "    \n",
    "    def __iter__(self):\n",
    "        for index, record in enumerate(SeqIO.parse('trembl_bacteria_seqs.fa', 'fasta')):\n",
    "            for loop_num in xrange(0, 3):\n",
    "                word_list = []\n",
    "                #print record.seq\n",
    "                tri_tokens = trigrams(record.seq)\n",
    "                for index1, item in enumerate(tri_tokens):\n",
    "                    if index1 % 3 == loop_num:\n",
    "                        tri_str = item[0] + item[1] + item[2]\n",
    "                        #print tri_str,\n",
    "                        word_list.append(tri_str)\n",
    "                #print\n",
    "                yield word_list\n",
    "    #         if index == 2:\n",
    "    #             break\n"
   ]
  },
  {
   "cell_type": "code",
   "execution_count": null,
   "metadata": {
    "collapsed": false,
    "scrolled": true
   },
   "outputs": [],
   "source": [
    "min_count = 0\n",
    "size = 200\n",
    "window = 5\n",
    "sg = 1\n",
    "\n",
    "sentences = MySentences() # a memory-friendly iterator\n",
    "model = gensim.models.Word2Vec(sentences, min_count=min_count, size=size, window=window, sg = sg, workers = 10)"
   ]
  },
  {
   "cell_type": "code",
   "execution_count": 8,
   "metadata": {
    "collapsed": true
   },
   "outputs": [],
   "source": [
    "model.save('my_wordvec_model_trembl_size_200')"
   ]
  },
  {
   "cell_type": "code",
   "execution_count": 5,
   "metadata": {
    "collapsed": false
   },
   "outputs": [
    {
     "name": "stderr",
     "output_type": "stream",
     "text": [
      "2017-05-02 15:31:27,030 : INFO : saving Word2Vec object under my_wordvec_model_trembl, separately None\n",
      "2017-05-02 15:31:27,032 : INFO : not storing attribute syn0norm\n",
      "2017-05-02 15:31:27,034 : INFO : not storing attribute cum_table\n",
      "2017-05-02 15:31:27,194 : INFO : saved my_wordvec_model_trembl\n"
     ]
    }
   ],
   "source": []
  },
  {
   "cell_type": "code",
   "execution_count": 10,
   "metadata": {
    "collapsed": false
   },
   "outputs": [],
   "source": [
    "new_model = gensim.models.Word2Vec.load('my_wordvec_model_trembl_size_200')"
   ]
  },
  {
   "cell_type": "code",
   "execution_count": 11,
   "metadata": {
    "collapsed": false
   },
   "outputs": [
    {
     "data": {
      "text/plain": [
       "10334"
      ]
     },
     "execution_count": 11,
     "metadata": {},
     "output_type": "execute_result"
    }
   ],
   "source": [
    "len(list(new_model.wv.vocab))"
   ]
  },
  {
   "cell_type": "code",
   "execution_count": 12,
   "metadata": {
    "collapsed": false,
    "scrolled": true
   },
   "outputs": [
    {
     "data": {
      "text/plain": [
       "array([ -1.41333163e-01,   4.34706658e-02,   3.87394801e-02,\n",
       "        -2.24631682e-01,   1.80923760e-01,   3.19859684e-02,\n",
       "         2.44557112e-01,   1.10440366e-01,  -3.27791907e-02,\n",
       "        -1.36738330e-01,   1.28148854e-01,   1.64960966e-01,\n",
       "        -6.08720742e-02,  -8.58856216e-02,   3.51485871e-02,\n",
       "        -1.12291887e-01,  -6.13041446e-02,  -2.69700885e-01,\n",
       "        -1.20296001e-01,   4.22998331e-02,  -2.18988225e-01,\n",
       "         7.79120103e-02,   5.00044301e-02,  -6.73710629e-02,\n",
       "         3.17962468e-01,   1.29416704e-01,  -1.46852443e-02,\n",
       "        -4.16233987e-02,  -4.88213338e-02,   1.75257668e-01,\n",
       "         2.17614006e-02,   1.89378019e-02,   1.25815019e-01,\n",
       "         1.24035090e-01,   2.21106514e-01,  -4.31634001e-02,\n",
       "         1.47515744e-01,   8.38434845e-02,   2.74471045e-01,\n",
       "        -3.73183116e-02,  -7.53250718e-02,  -4.24031503e-02,\n",
       "         2.58889571e-02,  -1.27263010e-01,   4.64612730e-02,\n",
       "         5.66109531e-02,  -2.42768526e-02,  -3.08363497e-01,\n",
       "         1.01783141e-01,  -3.23697962e-02,  -2.30846107e-02,\n",
       "         3.45066801e-04,   9.16897319e-03,   1.24930829e-01,\n",
       "        -7.84133375e-02,  -1.34640196e-02,  -2.79380262e-01,\n",
       "        -4.18602042e-02,   2.53278434e-01,  -1.37142345e-01,\n",
       "         1.45527244e-01,  -9.46978629e-02,   7.69067779e-02,\n",
       "         6.01293817e-02,  -1.65164143e-01,  -1.45725921e-01,\n",
       "        -2.78459536e-03,   4.82259206e-02,   8.08314681e-02,\n",
       "         2.57393718e-02,  -8.78708716e-03,   1.70633644e-01,\n",
       "         8.71399939e-02,  -1.49214074e-01,   1.35202063e-02,\n",
       "         1.79113775e-01,   8.53080153e-02,   1.53495036e-02,\n",
       "        -5.72095215e-02,   3.53815705e-02,   9.91877764e-02,\n",
       "        -4.64650579e-02,   1.43326685e-01,  -1.39033705e-01,\n",
       "        -7.50094792e-03,   3.71525474e-02,  -1.54819135e-02,\n",
       "         1.45387575e-02,  -5.73334135e-02,  -3.03296801e-02,\n",
       "         6.20878525e-02,  -2.82093316e-01,   1.15775257e-01,\n",
       "         9.04996172e-02,   2.00778797e-01,   7.94867128e-02,\n",
       "         9.84238088e-03,   2.49415450e-03,   2.73930371e-01,\n",
       "         1.46356300e-01,  -1.30386531e-01,  -4.26936716e-01,\n",
       "         2.08511397e-01,  -5.75158279e-03,  -1.06971733e-01,\n",
       "        -5.13926819e-02,  -3.54647031e-03,   5.17154438e-03,\n",
       "         2.70770136e-02,  -5.61595224e-02,  -2.31781602e-02,\n",
       "         1.80455148e-02,  -1.59420833e-01,  -6.91579878e-02,\n",
       "         1.43908307e-01,   4.73103523e-02,   1.68770716e-01,\n",
       "        -1.04735613e-01,   2.11413540e-02,   6.04779180e-03,\n",
       "         2.77074054e-02,   1.19414516e-01,  -1.06658414e-01,\n",
       "        -1.05805911e-01,   8.90729725e-02,  -1.04220830e-01,\n",
       "         1.39197335e-01,   1.00205019e-01,  -7.92662054e-03,\n",
       "        -2.64205933e-01,   1.68374836e-01,   2.15095773e-01,\n",
       "         1.83660164e-02,  -3.75102051e-02,   9.32392329e-02,\n",
       "         1.38569489e-01,  -1.35683715e-01,  -1.59694359e-01,\n",
       "        -3.77634121e-03,  -4.98799980e-02,  -9.06719491e-02,\n",
       "         1.18067488e-01,   2.41747461e-02,  -5.60425315e-03,\n",
       "         3.39228697e-02,   2.63436794e-01,  -6.03205226e-02,\n",
       "         1.25610247e-01,   2.00383157e-01,   2.70152301e-01,\n",
       "        -4.71265353e-02,   1.53739214e-01,  -7.89524540e-02,\n",
       "         6.20931247e-03,   7.24233165e-02,  -1.41263306e-01,\n",
       "         6.26567006e-02,   1.21342689e-01,  -2.84426901e-02,\n",
       "        -6.19030781e-02,   9.77725983e-02,  -3.09490561e-02,\n",
       "        -9.59777981e-02,  -8.42418447e-02,   8.98424629e-03,\n",
       "         8.27508699e-03,  -7.88943544e-02,  -1.80657089e-01,\n",
       "        -1.08293049e-01,  -3.37807611e-02,  -1.16238222e-01,\n",
       "        -1.56517938e-01,  -5.37375845e-02,  -9.52168629e-02,\n",
       "        -2.77589429e-02,  -1.24379508e-01,  -3.83663066e-02,\n",
       "        -1.23386212e-01,  -1.51279336e-02,   9.72057804e-02,\n",
       "         2.24231094e-01,  -1.29539430e-01,   1.98686182e-01,\n",
       "        -1.66778849e-03,  -9.94456708e-02,   4.63388525e-02,\n",
       "         2.55006403e-02,  -8.98633376e-02,   1.81510240e-01,\n",
       "        -8.03837329e-02,   1.89246073e-01,   3.21672149e-02,\n",
       "        -7.30974823e-02,   6.28696755e-02,   8.77847895e-02,\n",
       "        -8.63672793e-02,   1.06947109e-01,  -1.01527497e-01,\n",
       "        -8.50629732e-02,   9.20651034e-02], dtype=float32)"
      ]
     },
     "execution_count": 12,
     "metadata": {},
     "output_type": "execute_result"
    }
   ],
   "source": [
    "new_model['TST']\n",
    "#model.similarity('AAA', 'AAG')"
   ]
  },
  {
   "cell_type": "code",
   "execution_count": 9,
   "metadata": {
    "collapsed": false,
    "scrolled": true
   },
   "outputs": [
    {
     "name": "stdout",
     "output_type": "stream",
     "text": [
      "MIFDGKVAIITGGGKAKSIGYGIAVAYAK\n",
      "MIF DGK VAI ITG GGK AKS IGY GIA VAY\n",
      "['MIF', 'DGK', 'VAI', 'ITG', 'GGK', 'AKS', 'IGY', 'GIA', 'VAY']\n",
      "MIFDGKVAIITGGGKAKSIGYGIAVAYAK\n",
      "IFD GKV AII TGG GKA KSI GYG IAV AYA\n",
      "['IFD', 'GKV', 'AII', 'TGG', 'GKA', 'KSI', 'GYG', 'IAV', 'AYA']\n",
      "MIFDGKVAIITGGGKAKSIGYGIAVAYAK\n",
      "FDG KVA IIT GGG KAK SIG YGI AVA YAK\n",
      "['FDG', 'KVA', 'IIT', 'GGG', 'KAK', 'SIG', 'YGI', 'AVA', 'YAK']\n"
     ]
    }
   ],
   "source": [
    "for index, record in enumerate(SeqIO.parse('swissprot_bacteria_seqs.fa', 'fasta')):\n",
    "    for loop_num in xrange(0, 3):\n",
    "        word_list = []\n",
    "        print record.seq\n",
    "        tri_tokens = trigrams(record.seq)\n",
    "        for index1, item in enumerate(tri_tokens):\n",
    "            if index1 % 3 == loop_num:\n",
    "                tri_str = item[0] + item[1] + item[2]\n",
    "                print tri_str,\n",
    "                word_list.append(tri_str)\n",
    "        print\n",
    "        print word_list\n",
    "    if index == 0:\n",
    "        break\n",
    "    "
   ]
  },
  {
   "cell_type": "code",
   "execution_count": 12,
   "metadata": {
    "collapsed": false,
    "scrolled": true
   },
   "outputs": [
    {
     "name": "stdout",
     "output_type": "stream",
     "text": [
      "['MIF', 'DGK', 'VAI', 'ITG', 'GGK', 'AKS', 'IGY', 'GIA', 'VAY']\n",
      "['IFD', 'GKV', 'AII', 'TGG', 'GKA', 'KSI', 'GYG', 'IAV', 'AYA']\n",
      "['FDG', 'KVA', 'IIT', 'GGG', 'KAK', 'SIG', 'YGI', 'AVA', 'YAK']\n",
      "['MFH', 'VLT', 'LTY', 'LCP', 'LDV', 'VXQ', 'TRP', 'AHV']\n",
      "['FHV', 'LTL', 'TYL', 'CPL', 'DVV', 'XQT', 'RPA']\n",
      "['HVL', 'TLT', 'YLC', 'PLD', 'VVX', 'QTR', 'PAH']\n",
      "['MTM', 'LKE', 'IKK', 'ADL', 'SAA', 'FYP', 'SGE', 'LAW', 'LKL', 'KDI', 'MLN', 'QVI', 'QNP', 'LEN', 'RLS', 'QIY', 'VRA', 'HVG', 'DKI', 'EIY', 'PLL', 'SRD', 'AEV', 'GFN', 'ENG', 'VEY', 'RGV', 'VGP', 'FRY', 'SVQ', 'MHF', 'HTR', 'GWF', 'YDV', 'TVD', 'GDL', 'EFD', 'LVY', 'LQD', 'LGL', 'AEQ', 'AAV', 'RTN', 'EAY', 'MSQ', 'YID', 'YHV', 'TEG', 'ATG', 'FTV', 'QAR', 'QNQ', 'PQN', 'ERF', 'PAV', 'QIG', 'ALT', 'KIV', 'GYA', 'TDG', 'FDI', 'YGT', 'NYK', 'LTS', 'ELA', 'NLK', 'EKS', 'LPS', 'RVY', 'QYE', 'FAQ', 'ISL', 'QTE', 'LFT', 'NHG', 'ETI', 'FYG', 'YAT', 'ENQ', 'PKA', 'SGA', 'PFE', 'NLA', 'ELK', 'SNI', 'SEQ', 'PYQ', 'PST', 'KAI', 'LNK', 'HIG', 'TPI', 'TGE', 'TIS', 'DSW', 'LQE', 'NFP', 'DRI', 'QEE', 'QQN', 'GAL', 'LSF', 'FTP', 'NYA', 'HVV', 'MRE', 'KEA', 'ELE', 'RPH', 'GSI', 'LLD', 'KVD', 'VLN', 'PEA', 'TLS', 'ATT', 'YMY', 'GAF', 'LSQ', 'LVA', 'GNT', 'NMN', 'KWN', 'SHA', 'RNP', 'LNI', 'LQT', 'SGL', 'RIY', 'IEL', 'DSE', 'LRL', 'LGV', 'PSV', 'WET', 'STN', 'YST', 'WYY', 'QWN', 'GDL', 'ITV', 'QTT', 'LTA', 'DSK', 'EAF', 'VTV', 'HSE', 'KGH', 'SYK', 'LVL', 'TNQ', 'VTM', 'GTN', 'EYD', 'TTV', 'KKE', 'IKD', 'GIV', 'TYF', 'PAE', 'DSP', 'ILE', 'TYP', 'ALQ', 'FRV', 'DGT', 'YNE', 'LTD', 'ERY', 'FAK', 'DYV', 'GTA', 'GLD', 'VFV', 'FEP', 'SDK', 'ATF', 'HVQ', 'AKL', 'SDE', 'FSK', 'PTE', 'DLE', 'ANN', 'KVI', 'RAS', 'YDE', 'LTA', 'QFH', 'LNH', 'QST', 'TAE', 'KLN', 'LTV', 'YWY', 'AHQ', 'MLV', 'HYA', 'SPH', 'GLE', 'QYS', 'GAA', 'WGT', 'RDV', 'SQG', 'PFE', 'FFL', 'ATG', 'NKA', 'VLR', 'KLV', 'LTI', 'FSH', 'QYQ', 'DTG', 'DWP', 'QWF', 'MFD', 'KYT', 'SIQ', 'QEE', 'SHG', 'DVI', 'VWP', 'LKI', 'IGD', 'YLE', 'MSG', 'DAG', 'ILE', 'EAI', 'PFV', 'DRE', 'SKT', 'FTK', 'EQG', 'TLL', 'EHI', 'ELA', 'VKT', 'IEA', 'RFM', 'KGT', 'ALS', 'NYG', 'DGD', 'WDD', 'TLQ', 'PAN', 'AQL', 'KKN', 'MVS', 'SWT', 'VAL', 'TYQ', 'TFK', 'RLA', 'AFL', 'PVG', 'EKY', 'ETL', 'AKN', 'VQA', 'DFA', 'KYM', 'TND', 'TDV', 'IPG', 'FLY', 'LEE', 'GKA', 'PVW', 'MIH', 'PED', 'KET', 'NIK', 'YRL', 'IPL', 'TRS', 'VIS', 'ELV', 'DKK', 'QAS', 'RNF', 'EII', 'GEH', 'LLH', 'PDG', 'VRL', 'MSE', 'PAH', 'YAG', 'GVS', 'THF', 'KRA', 'EQA', 'ANF', 'GRE', 'VGL', 'QYV', 'HAH', 'IRY', 'IEA', 'LAK', 'IGD', 'KSA', 'WHM', 'LDV', 'INP', 'INI', 'KEV', 'VPN', 'AAL', 'RQS', 'NTY', 'FSS', 'SDA', 'AFL', 'DRY', 'QAQ', 'NEF', 'GRV', 'KEG', 'SIP', 'VKG', 'GWR', 'IYS', 'SGP', 'GIY', 'LHQ', 'LIS', 'SVL', 'GIR', 'QTE', 'DAL', 'IFD', 'PIL', 'PEE', 'LDG', 'LEC', 'HIE', 'LDN', 'YPL', 'DLT', 'FES', 'ADE', 'GSI', 'VVN', 'GEK', 'QPV', 'ENG', 'ANL', 'YRT', 'GAL', 'ILP', 'KKN', 'LTT', 'KCS', 'QIT', 'IKF', 'QKN', 'NRL']\n",
      "['TML', 'KEI', 'KKA', 'DLS', 'AAF', 'YPS', 'GEL', 'AWL', 'KLK', 'DIM', 'LNQ', 'VIQ', 'NPL', 'ENR', 'LSQ', 'IYV', 'RAH', 'VGD', 'KIE', 'IYP', 'LLS', 'RDA', 'EVG', 'FNE', 'NGV', 'EYR', 'GVV', 'GPF', 'RYS', 'VQM', 'HFH', 'TRG', 'WFY', 'DVT', 'VDG', 'DLE', 'FDL', 'VYL', 'QDL', 'GLA', 'EQA', 'AVR', 'TNE', 'AYM', 'SQY', 'IDY', 'HVT', 'EGA', 'TGF', 'TVQ', 'ARQ', 'NQP', 'QNE', 'RFP', 'AVQ', 'IGA', 'LTK', 'IVG', 'YAT', 'DGF', 'DIY', 'GTN', 'YKL', 'TSE', 'LAN', 'LKE', 'KSL', 'PSR', 'VYQ', 'YEF', 'AQI', 'SLQ', 'TEL', 'FTN', 'HGE', 'TIF', 'YGY', 'ATE', 'NQP', 'KAS', 'GAP', 'FEN', 'LAE', 'LKS', 'NIS', 'EQP', 'YQP', 'STK', 'AIL', 'NKH', 'IGT', 'PIT', 'GET', 'ISD', 'SWL', 'QEN', 'FPD', 'RIQ', 'EEQ', 'QNG', 'ALL', 'SFF', 'TPN', 'YAH', 'VVM', 'REK', 'EAE', 'LER', 'PHG', 'SIL', 'LDK', 'VDV', 'LNP', 'EAT', 'LSA', 'TTY', 'MYG', 'AFL', 'SQL', 'VAG', 'NTN', 'MNK', 'WNS', 'HAR', 'NPL', 'NIL', 'QTS', 'GLR', 'IYI', 'ELD', 'SEL', 'RLL', 'GVP', 'SVW', 'ETS', 'TNY', 'STW', 'YYQ', 'WNG', 'DLI', 'TVQ', 'TTL', 'TAD', 'SKE', 'AFV', 'TVH', 'SEK', 'GHS', 'YKL', 'VLT', 'NQV', 'TMG', 'TNE', 'YDT', 'TVK', 'KEI', 'KDG', 'IVT', 'YFP', 'AED', 'SPI', 'LET', 'YPA', 'LQF', 'RVD', 'GTY', 'NEL', 'TDE', 'RYF', 'AKD', 'YVG', 'TAG', 'LDV', 'FVF', 'EPS', 'DKA', 'TFH', 'VQA', 'KLS', 'DEF', 'SKP', 'TED', 'LEA', 'NNK', 'VIR', 'ASY', 'DEL', 'TAQ', 'FHL', 'NHQ', 'STT', 'AEK', 'LNL', 'TVY', 'WYA', 'HQM', 'LVH', 'YAS', 'PHG', 'LEQ', 'YSG', 'AAW', 'GTR', 'DVS', 'QGP', 'FEF', 'FLA', 'TGN', 'KAV', 'LRK', 'LVL', 'TIF', 'SHQ', 'YQD', 'TGD', 'WPQ', 'WFM', 'FDK', 'YTS', 'IQQ', 'EES', 'HGD', 'VIV', 'WPL', 'KII', 'GDY', 'LEM', 'SGD', 'AGI', 'LEE', 'AIP', 'FVD', 'RES', 'KTF', 'TKE', 'QGT', 'LLE', 'HIE', 'LAV', 'KTI', 'EAR', 'FMK', 'GTA', 'LSN', 'YGD', 'GDW', 'DDT', 'LQP', 'ANA', 'QLK', 'KNM', 'VSS', 'WTV', 'ALT', 'YQT', 'FKR', 'LAA', 'FLP', 'VGE', 'KYE', 'TLA', 'KNV', 'QAD', 'FAK', 'YMT', 'NDT', 'DVI', 'PGF', 'LYL', 'EEG', 'KAP', 'VWM', 'IHP', 'EDK', 'ETN', 'IKY', 'RLI', 'PLT', 'RSV', 'ISE', 'LVD', 'KKQ', 'ASR', 'NFE', 'IIG', 'EHL', 'LHP', 'DGV', 'RLM', 'SEP', 'AHY', 'AGG', 'VST', 'HFK', 'RAE', 'QAA', 'NFG', 'REV', 'GLQ', 'YVH', 'AHI', 'RYI', 'EAL', 'AKI', 'GDK', 'SAW', 'HML', 'DVI', 'NPI', 'NIK', 'EVV', 'PNA', 'ALR', 'QSN', 'TYF', 'SSS', 'DAA', 'FLD', 'RYQ', 'AQN', 'EFG', 'RVK', 'EGS', 'IPV', 'KGG', 'WRI', 'YSS', 'GPG', 'IYL', 'HQL', 'ISS', 'VLG', 'IRQ', 'TED', 'ALI', 'FDP', 'ILP', 'EEL', 'DGL', 'ECH', 'IEL', 'DNY', 'PLD', 'LTF', 'ESA', 'DEG', 'SIV', 'VNG', 'EKQ', 'PVE', 'NGA', 'NLY', 'RTG', 'ALI', 'LPK', 'KNL', 'TTK', 'CSQ', 'ITI', 'KFQ', 'KNN']\n",
      "['MLK', 'EIK', 'KAD', 'LSA', 'AFY', 'PSG', 'ELA', 'WLK', 'LKD', 'IML', 'NQV', 'IQN', 'PLE', 'NRL', 'SQI', 'YVR', 'AHV', 'GDK', 'IEI', 'YPL', 'LSR', 'DAE', 'VGF', 'NEN', 'GVE', 'YRG', 'VVG', 'PFR', 'YSV', 'QMH', 'FHT', 'RGW', 'FYD', 'VTV', 'DGD', 'LEF', 'DLV', 'YLQ', 'DLG', 'LAE', 'QAA', 'VRT', 'NEA', 'YMS', 'QYI', 'DYH', 'VTE', 'GAT', 'GFT', 'VQA', 'RQN', 'QPQ', 'NER', 'FPA', 'VQI', 'GAL', 'TKI', 'VGY', 'ATD', 'GFD', 'IYG', 'TNY', 'KLT', 'SEL', 'ANL', 'KEK', 'SLP', 'SRV', 'YQY', 'EFA', 'QIS', 'LQT', 'ELF', 'TNH', 'GET', 'IFY', 'GYA', 'TEN', 'QPK', 'ASG', 'APF', 'ENL', 'AEL', 'KSN', 'ISE', 'QPY', 'QPS', 'TKA', 'ILN', 'KHI', 'GTP', 'ITG', 'ETI', 'SDS', 'WLQ', 'ENF', 'PDR', 'IQE', 'EQQ', 'NGA', 'LLS', 'FFT', 'PNY', 'AHV', 'VMR', 'EKE', 'AEL', 'ERP', 'HGS', 'ILL', 'DKV', 'DVL', 'NPE', 'ATL', 'SAT', 'TYM', 'YGA', 'FLS', 'QLV', 'AGN', 'TNM', 'NKW', 'NSH', 'ARN', 'PLN', 'ILQ', 'TSG', 'LRI', 'YIE', 'LDS', 'ELR', 'LLG', 'VPS', 'VWE', 'TST', 'NYS', 'TWY', 'YQW', 'NGD', 'LIT', 'VQT', 'TLT', 'ADS', 'KEA', 'FVT', 'VHS', 'EKG', 'HSY', 'KLV', 'LTN', 'QVT', 'MGT', 'NEY', 'DTT', 'VKK', 'EIK', 'DGI', 'VTY', 'FPA', 'EDS', 'PIL', 'ETY', 'PAL', 'QFR', 'VDG', 'TYN', 'ELT', 'DER', 'YFA', 'KDY', 'VGT', 'AGL', 'DVF', 'VFE', 'PSD', 'KAT', 'FHV', 'QAK', 'LSD', 'EFS', 'KPT', 'EDL', 'EAN', 'NKV', 'IRA', 'SYD', 'ELT', 'AQF', 'HLN', 'HQS', 'TTA', 'EKL', 'NLT', 'VYW', 'YAH', 'QML', 'VHY', 'ASP', 'HGL', 'EQY', 'SGA', 'AWG', 'TRD', 'VSQ', 'GPF', 'EFF', 'LAT', 'GNK', 'AVL', 'RKL', 'VLT', 'IFS', 'HQY', 'QDT', 'GDW', 'PQW', 'FMF', 'DKY', 'TSI', 'QQE', 'ESH', 'GDV', 'IVW', 'PLK', 'IIG', 'DYL', 'EMS', 'GDA', 'GIL', 'EEA', 'IPF', 'VDR', 'ESK', 'TFT', 'KEQ', 'GTL', 'LEH', 'IEL', 'AVK', 'TIE', 'ARF', 'MKG', 'TAL', 'SNY', 'GDG', 'DWD', 'DTL', 'QPA', 'NAQ', 'LKK', 'NMV', 'SSW', 'TVA', 'LTY', 'QTF', 'KRL', 'AAF', 'LPV', 'GEK', 'YET', 'LAK', 'NVQ', 'ADF', 'AKY', 'MTN', 'DTD', 'VIP', 'GFL', 'YLE', 'EGK', 'APV', 'WMI', 'HPE', 'DKE', 'TNI', 'KYR', 'LIP', 'LTR', 'SVI', 'SEL', 'VDK', 'KQA', 'SRN', 'FEI', 'IGE', 'HLL', 'HPD', 'GVR', 'LMS', 'EPA', 'HYA', 'GGV', 'STH', 'FKR', 'AEQ', 'AAN', 'FGR', 'EVG', 'LQY', 'VHA', 'HIR', 'YIE', 'ALA', 'KIG', 'DKS', 'AWH', 'MLD', 'VIN', 'PIN', 'IKE', 'VVP', 'NAA', 'LRQ', 'SNT', 'YFS', 'SSD', 'AAF', 'LDR', 'YQA', 'QNE', 'FGR', 'VKE', 'GSI', 'PVK', 'GGW', 'RIY', 'SSG', 'PGI', 'YLH', 'QLI', 'SSV', 'LGI', 'RQT', 'EDA', 'LIF', 'DPI', 'LPE', 'ELD', 'GLE', 'CHI', 'ELD', 'NYP', 'LDL', 'TFE', 'SAD', 'EGS', 'IVV', 'NGE', 'KQP', 'VEN', 'GAN', 'LYR', 'TGA', 'LIL', 'PKK', 'NLT', 'TKC', 'SQI', 'TIK', 'FQK', 'NNR']\n"
     ]
    }
   ],
   "source": [
    "for i in sequence_generator():\n",
    "    print i"
   ]
  },
  {
   "cell_type": "code",
   "execution_count": null,
   "metadata": {
    "collapsed": true
   },
   "outputs": [],
   "source": []
  }
 ],
 "metadata": {
  "kernelspec": {
   "display_name": "Python 2",
   "language": "python",
   "name": "python2"
  },
  "language_info": {
   "codemirror_mode": {
    "name": "ipython",
    "version": 2
   },
   "file_extension": ".py",
   "mimetype": "text/x-python",
   "name": "python",
   "nbconvert_exporter": "python",
   "pygments_lexer": "ipython2",
   "version": "2.7.13"
  }
 },
 "nbformat": 4,
 "nbformat_minor": 2
}
